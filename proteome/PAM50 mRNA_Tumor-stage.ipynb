{
 "cells": [
  {
   "cell_type": "code",
   "execution_count": 1,
   "id": "62b021f6-1f29-496c-b9da-03661095da0f",
   "metadata": {},
   "outputs": [],
   "source": [
    "import pandas as pd\n",
    "import numpy as np\n",
    "import seaborn as sns\n",
    "import matplotlib.pyplot as plt\n",
    "from sklearn.decomposition import PCA\n",
    "from sklearn.preprocessing import LabelEncoder , MinMaxScaler\n",
    "from sklearn.model_selection import train_test_split\n",
    "from xgboost import XGBClassifier\n",
    "from sklearn.metrics import confusion_matrix, precision_score, recall_score, f1_score, classification_report, accuracy_score"
   ]
  },
  {
   "cell_type": "code",
   "execution_count": null,
   "id": "6f5ac161-c366-480c-a4fd-36f840dabbd8",
   "metadata": {},
   "outputs": [],
   "source": []
  },
  {
   "cell_type": "code",
   "execution_count": 15,
   "id": "392c65a6-f65b-46cb-acb7-a80b3108ff4a",
   "metadata": {},
   "outputs": [],
   "source": [
    "final = pd.read_csv(\"final_data.csv\")"
   ]
  },
  {
   "cell_type": "markdown",
   "id": "93527837-6538-45e9-8673-3287b40b5f5f",
   "metadata": {},
   "source": [
    "Prediction of PAM50 mRNA"
   ]
  },
  {
   "cell_type": "code",
   "execution_count": 16,
   "id": "1a29e4a4-fa8f-45de-9a8e-7b321aa4e5e7",
   "metadata": {},
   "outputs": [],
   "source": [
    "final.drop(['RefSeq_accession_number','Metastasis-Coded','Tumor','AJCC Stage',\"ER Status\",\"PR Status\",\"HER2 Final Status\"],axis=True,inplace=True) #removing other targets and sample id"
   ]
  },
  {
   "cell_type": "code",
   "execution_count": 17,
   "id": "87de94d2-d8f8-4fe5-9420-7b61a46f2eb4",
   "metadata": {},
   "outputs": [],
   "source": [
    "#corelation with the target \"PAM50 mRNA\"\n",
    "x = pd.DataFrame(abs(final.corr()[\"PAM50 mRNA\"]))"
   ]
  },
  {
   "cell_type": "code",
   "execution_count": 18,
   "id": "d7a2c80c-ba71-4cda-bfbc-ef69ae6b4473",
   "metadata": {},
   "outputs": [
    {
     "data": {
      "text/plain": [
       "[<matplotlib.lines.Line2D at 0x2732c5dcfd0>]"
      ]
     },
     "execution_count": 18,
     "metadata": {},
     "output_type": "execute_result"
    },
    {
     "data": {
      "image/png": "[encoded data removed]",
      "text/plain": [
       "<Figure size 640x480 with 1 Axes>"
      ]
     },
     "metadata": {},
     "output_type": "display_data"
    }
   ],
   "source": [
    "plt.plot(x)"
   ]
  },
  {
   "cell_type": "code",
   "execution_count": 19,
   "id": "a6f2df05-453b-4851-9ffa-e2b189413c42",
   "metadata": {},
   "outputs": [
    {
     "data": {
      "text/html": [
       "<div>\n",
       "<style scoped>\n",
       "    .dataframe tbody tr th:only-of-type {\n",
       "        vertical-align: middle;\n",
       "    }\n",
       "\n",
       "    .dataframe tbody tr th {\n",
       "        vertical-align: top;\n",
       "    }\n",
       "\n",
       "    .dataframe thead th {\n",
       "        text-align: right;\n",
       "    }\n",
       "</style>\n",
       "<table border=\"1\" class=\"dataframe\">\n",
       "  <thead>\n",
       "    <tr style=\"text-align: right;\">\n",
       "      <th></th>\n",
       "      <th>PAM50 mRNA</th>\n",
       "    </tr>\n",
       "  </thead>\n",
       "  <tbody>\n",
       "    <tr>\n",
       "      <th>Gender</th>\n",
       "      <td>0.187472</td>\n",
       "    </tr>\n",
       "    <tr>\n",
       "      <th>Age at Initial Pathologic Diagnosis</th>\n",
       "      <td>0.196919</td>\n",
       "    </tr>\n",
       "    <tr>\n",
       "      <th>PAM50 mRNA</th>\n",
       "      <td>1.000000</td>\n",
       "    </tr>\n",
       "    <tr>\n",
       "      <th>NP_958782</th>\n",
       "      <td>0.045004</td>\n",
       "    </tr>\n",
       "    <tr>\n",
       "      <th>NP_958785</th>\n",
       "      <td>0.046424</td>\n",
       "    </tr>\n",
       "    <tr>\n",
       "      <th>...</th>\n",
       "      <td>...</td>\n",
       "    </tr>\n",
       "    <tr>\n",
       "      <th>XP_003846524</th>\n",
       "      <td>0.137244</td>\n",
       "    </tr>\n",
       "    <tr>\n",
       "      <th>NP_443073</th>\n",
       "      <td>0.061599</td>\n",
       "    </tr>\n",
       "    <tr>\n",
       "      <th>NP_001004456</th>\n",
       "      <td>0.222979</td>\n",
       "    </tr>\n",
       "    <tr>\n",
       "      <th>NP_997625</th>\n",
       "      <td>0.076662</td>\n",
       "    </tr>\n",
       "    <tr>\n",
       "      <th>NP_003270</th>\n",
       "      <td>0.198289</td>\n",
       "    </tr>\n",
       "  </tbody>\n",
       "</table>\n",
       "<p>8020 rows × 1 columns</p>\n",
       "</div>"
      ],
      "text/plain": [
       "                                     PAM50 mRNA\n",
       "Gender                                 0.187472\n",
       "Age at Initial Pathologic Diagnosis    0.196919\n",
       "PAM50 mRNA                             1.000000\n",
       "NP_958782                              0.045004\n",
       "NP_958785                              0.046424\n",
       "...                                         ...\n",
       "XP_003846524                           0.137244\n",
       "NP_443073                              0.061599\n",
       "NP_001004456                           0.222979\n",
       "NP_997625                              0.076662\n",
       "NP_003270                              0.198289\n",
       "\n",
       "[8020 rows x 1 columns]"
      ]
     },
     "execution_count": 19,
     "metadata": {},
     "output_type": "execute_result"
    }
   ],
   "source": [
    "x"
   ]
  },
  {
   "cell_type": "code",
   "execution_count": 23,
   "id": "c9d85c33-cbab-41ce-bd37-2b997d4d02a2",
   "metadata": {},
   "outputs": [
    {
     "data": {
      "text/plain": [
       "399"
      ]
     },
     "execution_count": 23,
     "metadata": {},
     "output_type": "execute_result"
    }
   ],
   "source": [
    "len(x[x[\"PAM50 mRNA\"]>0.4].index.tolist())"
   ]
  },
  {
   "cell_type": "code",
   "execution_count": null,
   "id": "964955ef-daae-4c69-9786-4cf74fcbc1a1",
   "metadata": {},
   "outputs": [],
   "source": []
  },
  {
   "cell_type": "code",
   "execution_count": 165,
   "id": "c79147b9-bc69-46e3-8286-48679090618b",
   "metadata": {},
   "outputs": [],
   "source": [
    "final2 = final[x[x[\"PAM50 mRNA\"]>0.5].index.tolist()] #keeping features above 0.2 corelation, 444 proteins "
   ]
  },
  {
   "cell_type": "code",
   "execution_count": 166,
   "id": "6b794fb5-effb-41b7-9e9a-5fdf77df9a54",
   "metadata": {},
   "outputs": [],
   "source": [
    "scaler = MinMaxScaler() #scaling\n",
    "final2_scale = pd.DataFrame(scaler.fit_transform(final2.drop('PAM50 mRNA', axis=1)),columns=final2.columns.to_list()[1:])"
   ]
  },
  {
   "cell_type": "code",
   "execution_count": 27,
   "id": "54dc88bf-68a4-41ae-93b6-a6e0315e27ae",
   "metadata": {},
   "outputs": [
    {
     "data": {
      "text/plain": [
       "[<matplotlib.lines.Line2D at 0x27334ce2490>]"
      ]
     },
     "execution_count": 27,
     "metadata": {},
     "output_type": "execute_result"
    },
    {
     "data": {
      "image/png": "[encoded data removed]",
      "text/plain": [
       "<Figure size 640x480 with 1 Axes>"
      ]
     },
     "metadata": {},
     "output_type": "display_data"
    }
   ],
   "source": [
    "plt.plot(final2_scale.var())"
   ]
  },
  {
   "cell_type": "code",
   "execution_count": 177,
   "id": "bb4fdb3f-2dc5-4682-be43-80efe24160f5",
   "metadata": {},
   "outputs": [
    {
     "data": {
      "text/plain": [
       "(77, 102)"
      ]
     },
     "execution_count": 177,
     "metadata": {},
     "output_type": "execute_result"
    }
   ],
   "source": [
    "final2_scale.shape"
   ]
  },
  {
   "cell_type": "code",
   "execution_count": null,
   "id": "e292d4e8-3ca7-49b4-9f58-4e0484bc6aa0",
   "metadata": {},
   "outputs": [],
   "source": []
  },
  {
   "cell_type": "code",
   "execution_count": 216,
   "id": "7e6fe292-f343-4446-bd08-fc463b4c59d1",
   "metadata": {},
   "outputs": [],
   "source": [
    "X = final2_scale\n",
    "y = final2['PAM50 mRNA']\n",
    "X_train, X_test, y_train, y_test = train_test_split(X, y, test_size=0.3, random_state=40)"
   ]
  },
  {
   "cell_type": "code",
   "execution_count": 217,
   "id": "ac95448a-0941-4b6d-91e8-236db4f14f3a",
   "metadata": {},
   "outputs": [
    {
     "name": "stdout",
     "output_type": "stream",
     "text": [
      "XGBoost's prediction accuracy is: 62.50\n",
      "Precision: 0.625\n",
      "Recall: 0.625\n",
      "F1-Score: 0.625\n",
      "[[4 0 0 0]\n",
      " [1 2 0 2]\n",
      " [1 0 4 2]\n",
      " [0 1 2 5]]\n"
     ]
    }
   ],
   "source": [
    "xgb = XGBClassifier(n_estimators=100)\n",
    "xgb.fit(X_train, y_train)\n",
    "preds = xgb.predict(X_test)\n",
    "acc_xgb = (preds == y_test).sum().astype(float) / len(preds)*100\n",
    "\n",
    "print(\"XGBoost's prediction accuracy is: %3.2f\" % (acc_xgb))\n",
    "print(\"Precision:\", precision_score(y_test, preds, average='micro'))\n",
    "print(\"Recall:\",recall_score(y_test, preds, average='micro'))\n",
    "print(\"F1-Score:\", f1_score(y_test, preds, average='micro'))\n",
    "print(confusion_matrix(y_test, preds))"
   ]
  },
  {
   "cell_type": "code",
   "execution_count": null,
   "id": "dc49fde9-582f-46d4-9891-6e07aeebbd1c",
   "metadata": {},
   "outputs": [],
   "source": []
  },
  {
   "cell_type": "code",
   "execution_count": 31,
   "id": "4bcc99ca-efd5-43dd-b240-9bf433e3d3a1",
   "metadata": {},
   "outputs": [
    {
     "data": {
      "text/plain": [
       "3    24\n",
       "2    23\n",
       "0    18\n",
       "1    12\n",
       "Name: PAM50 mRNA, dtype: int64"
      ]
     },
     "execution_count": 31,
     "metadata": {},
     "output_type": "execute_result"
    }
   ],
   "source": [
    "final2['PAM50 mRNA'].value_counts()"
   ]
  },
  {
   "cell_type": "code",
   "execution_count": null,
   "id": "cb5a7d06-9a92-45e6-ad7f-204f52eb03a8",
   "metadata": {},
   "outputs": [],
   "source": []
  },
  {
   "cell_type": "code",
   "execution_count": 218,
   "id": "e7cb2c77-de47-495f-9fde-0f12311c0592",
   "metadata": {},
   "outputs": [
    {
     "name": "stdout",
     "output_type": "stream",
     "text": [
      "(53, 102) (53, 10)\n",
      "XGBoost's prediction accuracy is: 75.00\n",
      "Precision: 0.75\n",
      "Recall: 0.75\n",
      "F1-Score: 0.75\n",
      "[[4 0 0 0]\n",
      " [1 2 1 1]\n",
      " [0 1 4 2]\n",
      " [0 0 0 8]]\n"
     ]
    },
    {
     "name": "stderr",
     "output_type": "stream",
     "text": [
      "C:\\Users\\shasa\\AppData\\Local\\Programs\\Python\\Python311\\Lib\\site-packages\\sklearn\\base.py:486: UserWarning: X has feature names, but PCA was fitted without feature names\n",
      "  warnings.warn(\n"
     ]
    }
   ],
   "source": [
    "pca = PCA(n_components=10,random_state=42)\n",
    "r = pca.fit_transform(X = X_train.values)\n",
    "X_train_pca = pd.DataFrame(pca.transform(X_train.values))\n",
    "print(X_train.shape, X_train_pca.shape)\n",
    "\n",
    "xgb = XGBClassifier(n_estimators=100)\n",
    "xgb.fit(X_train_pca, y_train)\n",
    "\n",
    "X_test_pca = pca.transform(X_test)\n",
    "\n",
    "preds = xgb.predict(X_test_pca)\n",
    "acc_xgb = (preds == y_test).sum().astype(float) / len(preds)*100\n",
    "\n",
    "print(\"XGBoost's prediction accuracy is: %3.2f\" % (acc_xgb))\n",
    "print(\"Precision:\", precision_score(y_test, preds, average='micro'))\n",
    "print(\"Recall:\",recall_score(y_test, preds, average='micro'))\n",
    "print(\"F1-Score:\", f1_score(y_test, preds, average='micro'))\n",
    "print(confusion_matrix(y_test, preds))"
   ]
  },
  {
   "cell_type": "markdown",
   "id": "db21c060-ea43-48a6-98b7-764e22733365",
   "metadata": {},
   "source": [
    "0 : basal\n",
    "1 : A\n",
    "2 : B\n",
    "3 : HER2"
   ]
  },
  {
   "cell_type": "code",
   "execution_count": null,
   "id": "f6f6d644-783d-441a-b45c-8426e27530fc",
   "metadata": {},
   "outputs": [],
   "source": []
  },
  {
   "cell_type": "code",
   "execution_count": null,
   "id": "35d26e8b-bd14-4ca8-8f76-1b7b6c672a1c",
   "metadata": {},
   "outputs": [],
   "source": []
  },
  {
   "cell_type": "markdown",
   "id": "9981347e-d4a7-467a-8a5e-cbbbdf417390",
   "metadata": {},
   "source": [
    "TODO: plot the variance caPTURED IN THE PCs and plot PC1 vs PC2"
   ]
  },
  {
   "cell_type": "code",
   "execution_count": null,
   "id": "ed23dfd4-0031-4161-866e-396281d77f4c",
   "metadata": {},
   "outputs": [],
   "source": []
  },
  {
   "cell_type": "code",
   "execution_count": null,
   "id": "76ce473c-c459-49e9-aafa-6fa1fba2b2d4",
   "metadata": {},
   "outputs": [],
   "source": []
  },
  {
   "cell_type": "code",
   "execution_count": 272,
   "id": "037b6c7d-ab05-40f6-9ff8-41ad2341b4c8",
   "metadata": {},
   "outputs": [],
   "source": [
    "final = pd.read_csv(\"final_data.csv\")"
   ]
  },
  {
   "cell_type": "code",
   "execution_count": 273,
   "id": "abe129eb-cfad-4c61-831d-547a03d99309",
   "metadata": {},
   "outputs": [
    {
     "data": {
      "text/html": [
       "<div>\n",
       "<style scoped>\n",
       "    .dataframe tbody tr th:only-of-type {\n",
       "        vertical-align: middle;\n",
       "    }\n",
       "\n",
       "    .dataframe tbody tr th {\n",
       "        vertical-align: top;\n",
       "    }\n",
       "\n",
       "    .dataframe thead th {\n",
       "        text-align: right;\n",
       "    }\n",
       "</style>\n",
       "<table border=\"1\" class=\"dataframe\">\n",
       "  <thead>\n",
       "    <tr style=\"text-align: right;\">\n",
       "      <th></th>\n",
       "      <th>Tumor</th>\n",
       "      <th>PAM50 mRNA</th>\n",
       "    </tr>\n",
       "  </thead>\n",
       "  <tbody>\n",
       "    <tr>\n",
       "      <th>Tumor</th>\n",
       "      <td>1.000000</td>\n",
       "      <td>0.181535</td>\n",
       "    </tr>\n",
       "    <tr>\n",
       "      <th>PAM50 mRNA</th>\n",
       "      <td>0.181535</td>\n",
       "      <td>1.000000</td>\n",
       "    </tr>\n",
       "  </tbody>\n",
       "</table>\n",
       "</div>"
      ],
      "text/plain": [
       "               Tumor  PAM50 mRNA\n",
       "Tumor       1.000000    0.181535\n",
       "PAM50 mRNA  0.181535    1.000000"
      ]
     },
     "execution_count": 273,
     "metadata": {},
     "output_type": "execute_result"
    }
   ],
   "source": [
    "final[[\"Tumor\",\"PAM50 mRNA\"]].corr()"
   ]
  },
  {
   "cell_type": "markdown",
   "id": "4ca19a32-8014-4f31-b573-82dc5e3a8b35",
   "metadata": {},
   "source": [
    "Prediction of Tumor stage "
   ]
  },
  {
   "cell_type": "code",
   "execution_count": 220,
   "id": "0d313e87-73bd-4c64-a44b-4c8ea75ecaa9",
   "metadata": {},
   "outputs": [],
   "source": [
    "final.drop(['RefSeq_accession_number','Metastasis-Coded','PAM50 mRNA','AJCC Stage',\"ER Status\",\"PR Status\",\"HER2 Final Status\"],axis=True,inplace=True) #removing other targets and sample id"
   ]
  },
  {
   "cell_type": "code",
   "execution_count": 222,
   "id": "ab67141d-5ddd-4ccf-8133-3daac7a01320",
   "metadata": {},
   "outputs": [],
   "source": [
    "#corelation with the target \"PAM50 mRNA\"\n",
    "x = pd.DataFrame(abs(final.corr()[\"Tumor\"]))"
   ]
  },
  {
   "cell_type": "code",
   "execution_count": 226,
   "id": "bc265294-5d53-40ab-b88b-d4e5c534fe6b",
   "metadata": {},
   "outputs": [
    {
     "data": {
      "text/plain": [
       "[<matplotlib.lines.Line2D at 0x27388422250>]"
      ]
     },
     "execution_count": 226,
     "metadata": {},
     "output_type": "execute_result"
    },
    {
     "data": {
      "image/png": "[encoded data removed]",
      "text/plain": [
       "<Figure size 640x480 with 1 Axes>"
      ]
     },
     "metadata": {},
     "output_type": "display_data"
    }
   ],
   "source": [
    "plt.plot(x)"
   ]
  },
  {
   "cell_type": "code",
   "execution_count": 229,
   "id": "f64279dc-1d2e-46c4-9f91-e4914e731a69",
   "metadata": {},
   "outputs": [
    {
     "data": {
      "text/plain": [
       "71"
      ]
     },
     "execution_count": 229,
     "metadata": {},
     "output_type": "execute_result"
    }
   ],
   "source": [
    "len(x[x[\"Tumor\"]>0.3].index.tolist())"
   ]
  },
  {
   "cell_type": "code",
   "execution_count": 231,
   "id": "82ac0aa7-fbe9-4e94-b33e-b23fe9603878",
   "metadata": {},
   "outputs": [],
   "source": [
    "final2 = final[x[x[\"Tumor\"]>0.3].index.tolist()] #keeping features above 0.2 corelation, 444 proteins "
   ]
  },
  {
   "cell_type": "code",
   "execution_count": 232,
   "id": "98fbfadc-9f77-4f58-ae1f-b6f5debafbc4",
   "metadata": {},
   "outputs": [],
   "source": [
    "scaler = MinMaxScaler() #scaling\n",
    "final2_scale = pd.DataFrame(scaler.fit_transform(final2.drop('Tumor', axis=1)),columns=final2.columns.to_list()[1:])"
   ]
  },
  {
   "cell_type": "code",
   "execution_count": null,
   "id": "532d3097-16c3-46f4-8c96-552506eec82b",
   "metadata": {},
   "outputs": [],
   "source": [
    "plt.plot(final2_scale.var())"
   ]
  },
  {
   "cell_type": "code",
   "execution_count": null,
   "id": "e451f847-a748-414d-bf7c-943b9b6ce03f",
   "metadata": {},
   "outputs": [],
   "source": []
  },
  {
   "cell_type": "code",
   "execution_count": 254,
   "id": "2d5e9b75-57d3-49fe-bbc0-91640f84c495",
   "metadata": {},
   "outputs": [],
   "source": [
    "X = final2_scale\n",
    "y = final2['Tumor']\n",
    "X_train, X_test, y_train, y_test = train_test_split(X, y, test_size=0.3, random_state=30)"
   ]
  },
  {
   "cell_type": "code",
   "execution_count": 255,
   "id": "74a2adc4-13ba-4dae-a691-6e2afb1be38a",
   "metadata": {},
   "outputs": [
    {
     "name": "stdout",
     "output_type": "stream",
     "text": [
      "XGBoost's prediction accuracy is: 75.00\n",
      "Precision: 0.75\n",
      "Recall: 0.75\n",
      "F1-Score: 0.75\n",
      "[[ 0  2  0  0]\n",
      " [ 0 17  0  0]\n",
      " [ 0  3  0  0]\n",
      " [ 0  1  0  1]]\n"
     ]
    }
   ],
   "source": [
    "xgb = XGBClassifier(n_estimators=100)\n",
    "xgb.fit(X_train, y_train)\n",
    "preds = xgb.predict(X_test)\n",
    "acc_xgb = (preds == y_test).sum().astype(float) / len(preds)*100\n",
    "\n",
    "print(\"XGBoost's prediction accuracy is: %3.2f\" % (acc_xgb))\n",
    "print(\"Precision:\", precision_score(y_test, preds, average='micro'))\n",
    "print(\"Recall:\",recall_score(y_test, preds, average='micro'))\n",
    "print(\"F1-Score:\", f1_score(y_test, preds, average='micro'))\n",
    "print(confusion_matrix(y_test, preds))"
   ]
  },
  {
   "cell_type": "code",
   "execution_count": null,
   "id": "4f0f1431-7dff-4cc7-9430-79567ee62617",
   "metadata": {},
   "outputs": [],
   "source": []
  },
  {
   "cell_type": "code",
   "execution_count": 256,
   "id": "dc5cf0dd-beae-48d0-8970-2d907fb18f77",
   "metadata": {},
   "outputs": [
    {
     "data": {
      "text/plain": [
       "1    51\n",
       "2    11\n",
       "0    10\n",
       "3     5\n",
       "Name: Tumor, dtype: int64"
      ]
     },
     "execution_count": 256,
     "metadata": {},
     "output_type": "execute_result"
    }
   ],
   "source": [
    "final2['Tumor'].value_counts()"
   ]
  },
  {
   "cell_type": "code",
   "execution_count": null,
   "id": "b4f83327-4b63-449f-80de-aaa4eec6b8b4",
   "metadata": {},
   "outputs": [],
   "source": []
  },
  {
   "cell_type": "code",
   "execution_count": 271,
   "id": "5d4f4b09-75c7-4516-85b2-064b75dc918c",
   "metadata": {},
   "outputs": [
    {
     "name": "stdout",
     "output_type": "stream",
     "text": [
      "(53, 70) (53, 5)\n",
      "XGBoost's prediction accuracy is: 66.67\n",
      "Precision: 0.6666666666666666\n",
      "Recall: 0.6666666666666666\n",
      "F1-Score: 0.6666666666666666\n",
      "[[ 0  2  0  0]\n",
      " [ 0 15  0  2]\n",
      " [ 0  3  0  0]\n",
      " [ 0  1  0  1]]\n"
     ]
    },
    {
     "name": "stderr",
     "output_type": "stream",
     "text": [
      "C:\\Users\\shasa\\AppData\\Local\\Programs\\Python\\Python311\\Lib\\site-packages\\sklearn\\base.py:486: UserWarning: X has feature names, but PCA was fitted without feature names\n",
      "  warnings.warn(\n"
     ]
    }
   ],
   "source": [
    "pca = PCA(n_components=5,random_state=42)\n",
    "r = pca.fit_transform(X = X_train.values)\n",
    "X_train_pca = pd.DataFrame(pca.transform(X_train.values))\n",
    "print(X_train.shape, X_train_pca.shape)\n",
    "\n",
    "xgb = XGBClassifier(n_estimators=100)\n",
    "xgb.fit(X_train_pca, y_train)\n",
    "\n",
    "X_test_pca = pca.transform(X_test)\n",
    "\n",
    "preds = xgb.predict(X_test_pca)\n",
    "acc_xgb = (preds == y_test).sum().astype(float) / len(preds)*100\n",
    "\n",
    "print(\"XGBoost's prediction accuracy is: %3.2f\" % (acc_xgb))\n",
    "print(\"Precision:\", precision_score(y_test, preds, average='micro'))\n",
    "print(\"Recall:\",recall_score(y_test, preds, average='micro'))\n",
    "print(\"F1-Score:\", f1_score(y_test, preds, average='micro'))\n",
    "print(confusion_matrix(y_test, preds))"
   ]
  },
  {
   "cell_type": "code",
   "execution_count": null,
   "id": "7e1d7aca-a672-4e56-b574-c7ae0ad70413",
   "metadata": {},
   "outputs": [],
   "source": []
  }
 ],
 "metadata": {
  "kernelspec": {
   "display_name": "Python 3 (ipykernel)",
   "language": "python",
   "name": "python3"
  },
  "language_info": {
   "codemirror_mode": {
    "name": "ipython",
    "version": 3
   },
   "file_extension": ".py",
   "mimetype": "text/x-python",
   "name": "python",
   "nbconvert_exporter": "python",
   "pygments_lexer": "ipython3",
   "version": "3.11.8"
  }
 },
 "nbformat": 4,
 "nbformat_minor": 5
}
