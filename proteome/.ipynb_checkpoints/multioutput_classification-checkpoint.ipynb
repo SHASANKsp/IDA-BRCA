{
 "cells": [
  {
   "cell_type": "markdown",
   "id": "50fdbf28-a984-41e3-a481-7af3e70ac02c",
   "metadata": {},
   "source": [
    "https://towardsdatascience.com/machine-learning-on-multioutput-datasets-a-quick-guide-ebeba81b97d1  \n",
    "https://www.kaggle.com/code/vijaymukkala/multi-output-multi-classification-problem  \n",
    "https://medium.com/@cactuscode/multioutput-multiclass-classification-b0737a0693ec  \n",
    "https://www.geeksforgeeks.org/multiclass-vs-multioutput-algorithms-in-machine-learning/"
   ]
  },
  {
   "cell_type": "code",
   "execution_count": null,
   "id": "a4128d80-b16a-4bf3-bd1c-b8c7d5b313e4",
   "metadata": {},
   "outputs": [],
   "source": []
  },
  {
   "cell_type": "code",
   "execution_count": null,
   "id": "a9c48405-5115-43a4-8ad1-3772a844979c",
   "metadata": {},
   "outputs": [],
   "source": []
  }
 ],
 "metadata": {
  "kernelspec": {
   "display_name": "Python 3 (ipykernel)",
   "language": "python",
   "name": "python3"
  },
  "language_info": {
   "codemirror_mode": {
    "name": "ipython",
    "version": 3
   },
   "file_extension": ".py",
   "mimetype": "text/x-python",
   "name": "python",
   "nbconvert_exporter": "python",
   "pygments_lexer": "ipython3",
   "version": "3.11.8"
  }
 },
 "nbformat": 4,
 "nbformat_minor": 5
}
