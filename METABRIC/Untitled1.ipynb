{
 "cells": [
  {
   "cell_type": "code",
   "execution_count": null,
   "id": "cdab90e7-e173-4237-bc82-01c385c08b38",
   "metadata": {},
   "outputs": [],
   "source": [
    "mut_col = []\n",
    "for i in data.columns:\n",
    "    if \"_mut\" in i:\n",
    "        mut_col.append(i)"
   ]
  },
  {
   "cell_type": "code",
   "execution_count": null,
   "id": "8fcf4b2e-06eb-4095-9be0-4fcc60dc5af8",
   "metadata": {},
   "outputs": [],
   "source": [
    "col = []\n",
    "for i in data.columns:\n",
    "    if \"_mut\" not in i:\n",
    "        col.append(i)"
   ]
  },
  {
   "cell_type": "code",
   "execution_count": null,
   "id": "0e6aa0d8-5186-46a4-a033-074efd0d1e1b",
   "metadata": {},
   "outputs": [],
   "source": [
    "mutation_data = data[mut_col]"
   ]
  },
  {
   "cell_type": "code",
   "execution_count": null,
   "id": "0fdc7151-20eb-40a1-9837-c3c7a3baa752",
   "metadata": {},
   "outputs": [],
   "source": []
  },
  {
   "cell_type": "code",
   "execution_count": null,
   "id": "98e24e1c-e5f1-477f-8b24-16d385b5d7e4",
   "metadata": {},
   "outputs": [],
   "source": [
    "for i in mutation_data.columns:\n",
    "    print(i)\n",
    "    print(mutation_data[i].unique())"
   ]
  },
  {
   "cell_type": "code",
   "execution_count": null,
   "id": "074481c8-9cf9-478e-bb91-504efe801874",
   "metadata": {},
   "outputs": [],
   "source": [
    "data2 = data[col]"
   ]
  }
 ],
 "metadata": {
  "kernelspec": {
   "display_name": "Python 3 (ipykernel)",
   "language": "python",
   "name": "python3"
  },
  "language_info": {
   "codemirror_mode": {
    "name": "ipython",
    "version": 3
   },
   "file_extension": ".py",
   "mimetype": "text/x-python",
   "name": "python",
   "nbconvert_exporter": "python",
   "pygments_lexer": "ipython3",
   "version": "3.11.8"
  }
 },
 "nbformat": 4,
 "nbformat_minor": 5
}
